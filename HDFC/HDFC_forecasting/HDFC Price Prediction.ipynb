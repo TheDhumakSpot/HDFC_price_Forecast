{
 "cells": [
  {
   "cell_type": "markdown",
   "id": "95f72b18",
   "metadata": {},
   "source": [
    "# Forecasting Closing Prices of HDFC Bank"
   ]
  },
  {
   "cell_type": "code",
   "execution_count": 1,
   "id": "8835b7f8",
   "metadata": {},
   "outputs": [
    {
     "name": "stderr",
     "output_type": "stream",
     "text": [
      "C:\\Users\\HP\\anaconda3\\lib\\site-packages\\scipy\\__init__.py:146: UserWarning: A NumPy version >=1.16.5 and <1.23.0 is required for this version of SciPy (detected version 1.24.3\n",
      "  warnings.warn(f\"A NumPy version >={np_minversion} and <{np_maxversion}\"\n"
     ]
    }
   ],
   "source": [
    "import pandas as pd\n",
    "import numpy as np\n",
    "import matplotlib.pyplot as plt\n",
    "from statsmodels.tsa.seasonal import seasonal_decompose\n",
    "from statsmodels.tsa.api import ExponentialSmoothing,SimpleExpSmoothing,Holt\n"
   ]
  },
  {
   "cell_type": "markdown",
   "id": "fa841e96",
   "metadata": {},
   "source": [
    "## Load and Prepare Data"
   ]
  },
  {
   "cell_type": "code",
   "execution_count": 2,
   "id": "b377a0a5",
   "metadata": {},
   "outputs": [
    {
     "data": {
      "text/html": [
       "<div>\n",
       "<style scoped>\n",
       "    .dataframe tbody tr th:only-of-type {\n",
       "        vertical-align: middle;\n",
       "    }\n",
       "\n",
       "    .dataframe tbody tr th {\n",
       "        vertical-align: top;\n",
       "    }\n",
       "\n",
       "    .dataframe thead th {\n",
       "        text-align: right;\n",
       "    }\n",
       "</style>\n",
       "<table border=\"1\" class=\"dataframe\">\n",
       "  <thead>\n",
       "    <tr style=\"text-align: right;\">\n",
       "      <th></th>\n",
       "      <th>Date</th>\n",
       "      <th>Open</th>\n",
       "      <th>High</th>\n",
       "      <th>Low</th>\n",
       "      <th>Close</th>\n",
       "      <th>Adj Close</th>\n",
       "      <th>Volume</th>\n",
       "    </tr>\n",
       "  </thead>\n",
       "  <tbody>\n",
       "    <tr>\n",
       "      <th>491</th>\n",
       "      <td>9/18/2023</td>\n",
       "      <td>1653.75</td>\n",
       "      <td>1655.000000</td>\n",
       "      <td>1626.099976</td>\n",
       "      <td>1629.050049</td>\n",
       "      <td>1629.050049</td>\n",
       "      <td>18528144</td>\n",
       "    </tr>\n",
       "    <tr>\n",
       "      <th>492</th>\n",
       "      <td>9/20/2023</td>\n",
       "      <td>1599.00</td>\n",
       "      <td>1599.000000</td>\n",
       "      <td>1560.400024</td>\n",
       "      <td>1563.699951</td>\n",
       "      <td>1563.699951</td>\n",
       "      <td>57737324</td>\n",
       "    </tr>\n",
       "    <tr>\n",
       "      <th>493</th>\n",
       "      <td>9/21/2023</td>\n",
       "      <td>1553.00</td>\n",
       "      <td>1568.949951</td>\n",
       "      <td>1537.050049</td>\n",
       "      <td>1553.349976</td>\n",
       "      <td>1553.349976</td>\n",
       "      <td>36420721</td>\n",
       "    </tr>\n",
       "    <tr>\n",
       "      <th>494</th>\n",
       "      <td>9/22/2023</td>\n",
       "      <td>1559.00</td>\n",
       "      <td>1564.400024</td>\n",
       "      <td>1523.750000</td>\n",
       "      <td>1529.650024</td>\n",
       "      <td>1529.650024</td>\n",
       "      <td>30852125</td>\n",
       "    </tr>\n",
       "    <tr>\n",
       "      <th>495</th>\n",
       "      <td>9/25/2023</td>\n",
       "      <td>1525.00</td>\n",
       "      <td>1540.699951</td>\n",
       "      <td>1525.000000</td>\n",
       "      <td>1531.000000</td>\n",
       "      <td>1531.000000</td>\n",
       "      <td>20104377</td>\n",
       "    </tr>\n",
       "  </tbody>\n",
       "</table>\n",
       "</div>"
      ],
      "text/plain": [
       "          Date     Open         High          Low        Close    Adj Close  \\\n",
       "491  9/18/2023  1653.75  1655.000000  1626.099976  1629.050049  1629.050049   \n",
       "492  9/20/2023  1599.00  1599.000000  1560.400024  1563.699951  1563.699951   \n",
       "493  9/21/2023  1553.00  1568.949951  1537.050049  1553.349976  1553.349976   \n",
       "494  9/22/2023  1559.00  1564.400024  1523.750000  1529.650024  1529.650024   \n",
       "495  9/25/2023  1525.00  1540.699951  1525.000000  1531.000000  1531.000000   \n",
       "\n",
       "       Volume  \n",
       "491  18528144  \n",
       "492  57737324  \n",
       "493  36420721  \n",
       "494  30852125  \n",
       "495  20104377  "
      ]
     },
     "execution_count": 2,
     "metadata": {},
     "output_type": "execute_result"
    }
   ],
   "source": [
    "\n",
    "data = pd.read_csv('HDFCBANK.csv')\n",
    "data.tail()"
   ]
  },
  {
   "cell_type": "code",
   "execution_count": 3,
   "id": "c7a5db15",
   "metadata": {},
   "outputs": [
    {
     "data": {
      "text/plain": [
       "(496, 7)"
      ]
     },
     "execution_count": 3,
     "metadata": {},
     "output_type": "execute_result"
    }
   ],
   "source": [
    "data.shape"
   ]
  },
  {
   "cell_type": "markdown",
   "id": "9f7d8d46",
   "metadata": {},
   "source": [
    "## Exploratory data analysis (EDA)"
   ]
  },
  {
   "cell_type": "code",
   "execution_count": 4,
   "id": "e0c5bbb3",
   "metadata": {},
   "outputs": [
    {
     "data": {
      "text/html": [
       "<div>\n",
       "<style scoped>\n",
       "    .dataframe tbody tr th:only-of-type {\n",
       "        vertical-align: middle;\n",
       "    }\n",
       "\n",
       "    .dataframe tbody tr th {\n",
       "        vertical-align: top;\n",
       "    }\n",
       "\n",
       "    .dataframe thead th {\n",
       "        text-align: right;\n",
       "    }\n",
       "</style>\n",
       "<table border=\"1\" class=\"dataframe\">\n",
       "  <thead>\n",
       "    <tr style=\"text-align: right;\">\n",
       "      <th></th>\n",
       "      <th>Date</th>\n",
       "      <th>Close</th>\n",
       "    </tr>\n",
       "  </thead>\n",
       "  <tbody>\n",
       "    <tr>\n",
       "      <th>0</th>\n",
       "      <td>9/27/2021</td>\n",
       "      <td>1625.099976</td>\n",
       "    </tr>\n",
       "    <tr>\n",
       "      <th>1</th>\n",
       "      <td>9/28/2021</td>\n",
       "      <td>1615.050049</td>\n",
       "    </tr>\n",
       "    <tr>\n",
       "      <th>2</th>\n",
       "      <td>9/29/2021</td>\n",
       "      <td>1593.849976</td>\n",
       "    </tr>\n",
       "    <tr>\n",
       "      <th>3</th>\n",
       "      <td>9/30/2021</td>\n",
       "      <td>1594.949951</td>\n",
       "    </tr>\n",
       "    <tr>\n",
       "      <th>4</th>\n",
       "      <td>10/1/2021</td>\n",
       "      <td>1582.699951</td>\n",
       "    </tr>\n",
       "  </tbody>\n",
       "</table>\n",
       "</div>"
      ],
      "text/plain": [
       "        Date        Close\n",
       "0  9/27/2021  1625.099976\n",
       "1  9/28/2021  1615.050049\n",
       "2  9/29/2021  1593.849976\n",
       "3  9/30/2021  1594.949951\n",
       "4  10/1/2021  1582.699951"
      ]
     },
     "execution_count": 4,
     "metadata": {},
     "output_type": "execute_result"
    }
   ],
   "source": [
    "data=data[['Date','Close']]\n",
    "data.head()"
   ]
  },
  {
   "cell_type": "code",
   "execution_count": 5,
   "id": "83ba0e45",
   "metadata": {},
   "outputs": [
    {
     "name": "stdout",
     "output_type": "stream",
     "text": [
      "Range of Closing Price Dates is from - 9/27/2021 to 9/25/2023\n"
     ]
    }
   ],
   "source": [
    "# to get range of Month Column (i.e. 1st date and last date)\n",
    "#use double collon (\" \") for f \n",
    "print(f\"Range of Closing Price Dates is from - {data.loc[:,'Date'][0]} to {data.loc[:,'Date'][len(data)-1]}\")\n",
    "#-1 because indexing starts from 0, so if len =10 then the last value index will be (10-1) i.e len-1"
   ]
  },
  {
   "cell_type": "code",
   "execution_count": 6,
   "id": "98904028",
   "metadata": {},
   "outputs": [
    {
     "data": {
      "text/html": [
       "<div>\n",
       "<style scoped>\n",
       "    .dataframe tbody tr th:only-of-type {\n",
       "        vertical-align: middle;\n",
       "    }\n",
       "\n",
       "    .dataframe tbody tr th {\n",
       "        vertical-align: top;\n",
       "    }\n",
       "\n",
       "    .dataframe thead th {\n",
       "        text-align: right;\n",
       "    }\n",
       "</style>\n",
       "<table border=\"1\" class=\"dataframe\">\n",
       "  <thead>\n",
       "    <tr style=\"text-align: right;\">\n",
       "      <th></th>\n",
       "      <th>Close</th>\n",
       "    </tr>\n",
       "    <tr>\n",
       "      <th>Date</th>\n",
       "      <th></th>\n",
       "    </tr>\n",
       "  </thead>\n",
       "  <tbody>\n",
       "    <tr>\n",
       "      <th>2021-09-27</th>\n",
       "      <td>1625.099976</td>\n",
       "    </tr>\n",
       "    <tr>\n",
       "      <th>2021-09-28</th>\n",
       "      <td>1615.050049</td>\n",
       "    </tr>\n",
       "    <tr>\n",
       "      <th>2021-09-29</th>\n",
       "      <td>1593.849976</td>\n",
       "    </tr>\n",
       "    <tr>\n",
       "      <th>2021-09-30</th>\n",
       "      <td>1594.949951</td>\n",
       "    </tr>\n",
       "    <tr>\n",
       "      <th>2021-10-01</th>\n",
       "      <td>1582.699951</td>\n",
       "    </tr>\n",
       "  </tbody>\n",
       "</table>\n",
       "</div>"
      ],
      "text/plain": [
       "                  Close\n",
       "Date                   \n",
       "2021-09-27  1625.099976\n",
       "2021-09-28  1615.050049\n",
       "2021-09-29  1593.849976\n",
       "2021-09-30  1594.949951\n",
       "2021-10-01  1582.699951"
      ]
     },
     "execution_count": 6,
     "metadata": {},
     "output_type": "execute_result"
    }
   ],
   "source": [
    "\n",
    "data['Date'] = pd.to_datetime(data['Date'])  #changed Date column to datetime format\n",
    "data.set_index('Date', inplace=True) #Making Date Column as Index\n",
    "data.head()"
   ]
  },
  {
   "cell_type": "code",
   "execution_count": 7,
   "id": "9f05411e",
   "metadata": {},
   "outputs": [
    {
     "data": {
      "text/plain": [
       "(496, 1)"
      ]
     },
     "execution_count": 7,
     "metadata": {},
     "output_type": "execute_result"
    }
   ],
   "source": [
    "data.shape"
   ]
  },
  {
   "cell_type": "code",
   "execution_count": 8,
   "id": "659076ba",
   "metadata": {},
   "outputs": [
    {
     "data": {
      "text/html": [
       "<div>\n",
       "<style scoped>\n",
       "    .dataframe tbody tr th:only-of-type {\n",
       "        vertical-align: middle;\n",
       "    }\n",
       "\n",
       "    .dataframe tbody tr th {\n",
       "        vertical-align: top;\n",
       "    }\n",
       "\n",
       "    .dataframe thead th {\n",
       "        text-align: right;\n",
       "    }\n",
       "</style>\n",
       "<table border=\"1\" class=\"dataframe\">\n",
       "  <thead>\n",
       "    <tr style=\"text-align: right;\">\n",
       "      <th></th>\n",
       "      <th>Close</th>\n",
       "    </tr>\n",
       "    <tr>\n",
       "      <th>Date</th>\n",
       "      <th></th>\n",
       "    </tr>\n",
       "  </thead>\n",
       "  <tbody>\n",
       "    <tr>\n",
       "      <th>2021-09-27</th>\n",
       "      <td>1625.099976</td>\n",
       "    </tr>\n",
       "    <tr>\n",
       "      <th>2021-10-04</th>\n",
       "      <td>1585.750000</td>\n",
       "    </tr>\n",
       "    <tr>\n",
       "      <th>2021-10-11</th>\n",
       "      <td>1633.800049</td>\n",
       "    </tr>\n",
       "    <tr>\n",
       "      <th>2021-10-18</th>\n",
       "      <td>1670.300049</td>\n",
       "    </tr>\n",
       "    <tr>\n",
       "      <th>2021-10-25</th>\n",
       "      <td>1657.000000</td>\n",
       "    </tr>\n",
       "  </tbody>\n",
       "</table>\n",
       "</div>"
      ],
      "text/plain": [
       "                  Close\n",
       "Date                   \n",
       "2021-09-27  1625.099976\n",
       "2021-10-04  1585.750000\n",
       "2021-10-11  1633.800049\n",
       "2021-10-18  1670.300049\n",
       "2021-10-25  1657.000000"
      ]
     },
     "execution_count": 8,
     "metadata": {},
     "output_type": "execute_result"
    }
   ],
   "source": [
    "data = data.asfreq('W-MON')   #Weekly data\n",
    "data.head()\n"
   ]
  },
  {
   "cell_type": "code",
   "execution_count": 9,
   "id": "66037f80",
   "metadata": {},
   "outputs": [
    {
     "data": {
      "text/plain": [
       "2"
      ]
     },
     "execution_count": 9,
     "metadata": {},
     "output_type": "execute_result"
    }
   ],
   "source": [
    "data['Close'].isnull().sum()"
   ]
  },
  {
   "cell_type": "code",
   "execution_count": 10,
   "id": "036da54d",
   "metadata": {},
   "outputs": [
    {
     "data": {
      "text/plain": [
       "0"
      ]
     },
     "execution_count": 10,
     "metadata": {},
     "output_type": "execute_result"
    }
   ],
   "source": [
    "# Replace NaN values with the previous non-null value in each column\n",
    "data = data.fillna(method='ffill')\n",
    "\n",
    "# Print the DataFrame with NaN values replaced\n",
    "data['Close'].isnull().sum()"
   ]
  },
  {
   "cell_type": "markdown",
   "id": "a32af0b9",
   "metadata": {},
   "source": [
    "## Visualize Data"
   ]
  },
  {
   "cell_type": "code",
   "execution_count": 11,
   "id": "1ba55615",
   "metadata": {},
   "outputs": [
    {
     "data": {
      "image/png": "[encoded data removed]",
      "text/plain": [
       "<Figure size 720x360 with 1 Axes>"
      ]
     },
     "metadata": {
      "needs_background": "light"
     },
     "output_type": "display_data"
    }
   ],
   "source": [
    "plt.figure(figsize=(10, 5))\n",
    "plt.plot(data)\n",
    "plt.title('HDFC Bank 2 years Closing Price Data')\n",
    "plt.xlabel('Month-Year')\n",
    "plt.ylabel('Closing Price')\n",
    "plt.xticks(rotation='vertical')\n",
    "plt.grid()\n",
    "plt.show()"
   ]
  },
  {
   "cell_type": "code",
   "execution_count": 12,
   "id": "21558b49",
   "metadata": {},
   "outputs": [
    {
     "data": {
      "text/html": [
       "<div>\n",
       "<style scoped>\n",
       "    .dataframe tbody tr th:only-of-type {\n",
       "        vertical-align: middle;\n",
       "    }\n",
       "\n",
       "    .dataframe tbody tr th {\n",
       "        vertical-align: top;\n",
       "    }\n",
       "\n",
       "    .dataframe thead th {\n",
       "        text-align: right;\n",
       "    }\n",
       "</style>\n",
       "<table border=\"1\" class=\"dataframe\">\n",
       "  <thead>\n",
       "    <tr style=\"text-align: right;\">\n",
       "      <th></th>\n",
       "      <th>Close</th>\n",
       "    </tr>\n",
       "  </thead>\n",
       "  <tbody>\n",
       "    <tr>\n",
       "      <th>count</th>\n",
       "      <td>105.000000</td>\n",
       "    </tr>\n",
       "    <tr>\n",
       "      <th>mean</th>\n",
       "      <td>1536.419534</td>\n",
       "    </tr>\n",
       "    <tr>\n",
       "      <th>std</th>\n",
       "      <td>108.714978</td>\n",
       "    </tr>\n",
       "    <tr>\n",
       "      <th>min</th>\n",
       "      <td>1304.000000</td>\n",
       "    </tr>\n",
       "    <tr>\n",
       "      <th>25%</th>\n",
       "      <td>1450.800049</td>\n",
       "    </tr>\n",
       "    <tr>\n",
       "      <th>50%</th>\n",
       "      <td>1561.750000</td>\n",
       "    </tr>\n",
       "    <tr>\n",
       "      <th>75%</th>\n",
       "      <td>1629.449951</td>\n",
       "    </tr>\n",
       "    <tr>\n",
       "      <th>max</th>\n",
       "      <td>1719.800049</td>\n",
       "    </tr>\n",
       "  </tbody>\n",
       "</table>\n",
       "</div>"
      ],
      "text/plain": [
       "             Close\n",
       "count   105.000000\n",
       "mean   1536.419534\n",
       "std     108.714978\n",
       "min    1304.000000\n",
       "25%    1450.800049\n",
       "50%    1561.750000\n",
       "75%    1629.449951\n",
       "max    1719.800049"
      ]
     },
     "execution_count": 12,
     "metadata": {},
     "output_type": "execute_result"
    }
   ],
   "source": [
    "data.describe()"
   ]
  },
  {
   "cell_type": "markdown",
   "id": "488040a0",
   "metadata": {},
   "source": [
    "## BoxPlot"
   ]
  },
  {
   "cell_type": "code",
   "execution_count": 13,
   "id": "9a6e6481",
   "metadata": {},
   "outputs": [
    {
     "data": {
      "image/png": "[encoded data removed]",
      "text/plain": [
       "<Figure size 432x288 with 1 Axes>"
      ]
     },
     "metadata": {
      "needs_background": "light"
     },
     "output_type": "display_data"
    }
   ],
   "source": [
    "import seaborn as sns\n",
    "\n",
    "sns.boxplot(x=data.index.month_name(),y=data.values[:,0])\n",
    "plt.ylabel('Closing Price')\n",
    "plt.xticks(rotation='vertical')\n",
    "plt.show()"
   ]
  },
  {
   "cell_type": "markdown",
   "id": "e8389871",
   "metadata": {},
   "source": [
    "## Plotting 2 months data data "
   ]
  },
  {
   "cell_type": "code",
   "execution_count": 14,
   "id": "84b7414d",
   "metadata": {},
   "outputs": [
    {
     "data": {
      "image/png": "[encoded data removed]",
      "text/plain": [
       "<Figure size 432x288 with 1 Axes>"
      ]
     },
     "metadata": {
      "needs_background": "light"
     },
     "output_type": "display_data"
    }
   ],
   "source": [
    "#we have data from 1949 to 1960 means total 12 years\n",
    "\n",
    "data_yearly_sum=data.resample('2M').mean()\n",
    "data_yearly_sum.plot()\n",
    "plt.title('2 Months display of Data')\n",
    "plt.grid()"
   ]
  },
  {
   "cell_type": "markdown",
   "id": "d571a192",
   "metadata": {},
   "source": [
    "## Plotting Quaterly data"
   ]
  },
  {
   "cell_type": "code",
   "execution_count": 15,
   "id": "8738c678",
   "metadata": {},
   "outputs": [
    {
     "data": {
      "image/png": "[encoded data removed]",
      "text/plain": [
       "<Figure size 432x288 with 1 Axes>"
      ]
     },
     "metadata": {
      "needs_background": "light"
     },
     "output_type": "display_data"
    }
   ],
   "source": [
    "#Divide in quaters\n",
    "\n",
    "data_quaterly_sum=data.resample('Q').mean()\n",
    "\n",
    "data_quaterly_sum.plot()\n",
    "plt.title('Quaterly display of Data')\n",
    "plt.grid()"
   ]
  },
  {
   "cell_type": "code",
   "execution_count": 16,
   "id": "274453a4",
   "metadata": {},
   "outputs": [],
   "source": [
    "#more data , do it for 10 years as well (10Y)\n",
    "#do it for 5 years as well (5Y)"
   ]
  },
  {
   "cell_type": "markdown",
   "id": "faf273d3",
   "metadata": {},
   "source": [
    "## Mean"
   ]
  },
  {
   "cell_type": "code",
   "execution_count": 17,
   "id": "ca606aec",
   "metadata": {},
   "outputs": [
    {
     "data": {
      "text/html": [
       "<div>\n",
       "<style scoped>\n",
       "    .dataframe tbody tr th:only-of-type {\n",
       "        vertical-align: middle;\n",
       "    }\n",
       "\n",
       "    .dataframe tbody tr th {\n",
       "        vertical-align: top;\n",
       "    }\n",
       "\n",
       "    .dataframe thead th {\n",
       "        text-align: right;\n",
       "    }\n",
       "</style>\n",
       "<table border=\"1\" class=\"dataframe\">\n",
       "  <thead>\n",
       "    <tr style=\"text-align: right;\">\n",
       "      <th></th>\n",
       "      <th>Mean</th>\n",
       "    </tr>\n",
       "    <tr>\n",
       "      <th>Date</th>\n",
       "      <th></th>\n",
       "    </tr>\n",
       "  </thead>\n",
       "  <tbody>\n",
       "    <tr>\n",
       "      <th>8</th>\n",
       "      <td>1523.266683</td>\n",
       "    </tr>\n",
       "    <tr>\n",
       "      <th>9</th>\n",
       "      <td>1546.594469</td>\n",
       "    </tr>\n",
       "    <tr>\n",
       "      <th>10</th>\n",
       "      <td>1531.038900</td>\n",
       "    </tr>\n",
       "    <tr>\n",
       "      <th>11</th>\n",
       "      <td>1566.761122</td>\n",
       "    </tr>\n",
       "    <tr>\n",
       "      <th>12</th>\n",
       "      <td>1552.787506</td>\n",
       "    </tr>\n",
       "  </tbody>\n",
       "</table>\n",
       "</div>"
      ],
      "text/plain": [
       "             Mean\n",
       "Date             \n",
       "8     1523.266683\n",
       "9     1546.594469\n",
       "10    1531.038900\n",
       "11    1566.761122\n",
       "12    1552.787506"
      ]
     },
     "execution_count": 17,
     "metadata": {},
     "output_type": "execute_result"
    }
   ],
   "source": [
    "#Average Passengers Travelling\n",
    "\n",
    "data1=data.groupby(data.index.month).mean().rename(columns={'Close':'Mean'})\n",
    "data1.tail()"
   ]
  },
  {
   "cell_type": "markdown",
   "id": "0985383d",
   "metadata": {},
   "source": [
    "## Standard Deviation"
   ]
  },
  {
   "cell_type": "code",
   "execution_count": 18,
   "id": "6622a113",
   "metadata": {},
   "outputs": [
    {
     "data": {
      "text/html": [
       "<div>\n",
       "<style scoped>\n",
       "    .dataframe tbody tr th:only-of-type {\n",
       "        vertical-align: middle;\n",
       "    }\n",
       "\n",
       "    .dataframe tbody tr th {\n",
       "        vertical-align: top;\n",
       "    }\n",
       "\n",
       "    .dataframe thead th {\n",
       "        text-align: right;\n",
       "    }\n",
       "</style>\n",
       "<table border=\"1\" class=\"dataframe\">\n",
       "  <thead>\n",
       "    <tr style=\"text-align: right;\">\n",
       "      <th></th>\n",
       "      <th>Mean</th>\n",
       "      <th>std</th>\n",
       "    </tr>\n",
       "    <tr>\n",
       "      <th>Date</th>\n",
       "      <th></th>\n",
       "      <th></th>\n",
       "    </tr>\n",
       "  </thead>\n",
       "  <tbody>\n",
       "    <tr>\n",
       "      <th>1</th>\n",
       "      <td>1567.140002</td>\n",
       "      <td>63.238410</td>\n",
       "    </tr>\n",
       "    <tr>\n",
       "      <th>2</th>\n",
       "      <td>1554.193741</td>\n",
       "      <td>93.020121</td>\n",
       "    </tr>\n",
       "    <tr>\n",
       "      <th>3</th>\n",
       "      <td>1501.462524</td>\n",
       "      <td>98.520093</td>\n",
       "    </tr>\n",
       "    <tr>\n",
       "      <th>4</th>\n",
       "      <td>1567.243759</td>\n",
       "      <td>129.769813</td>\n",
       "    </tr>\n",
       "    <tr>\n",
       "      <th>5</th>\n",
       "      <td>1501.915002</td>\n",
       "      <td>167.734153</td>\n",
       "    </tr>\n",
       "  </tbody>\n",
       "</table>\n",
       "</div>"
      ],
      "text/plain": [
       "             Mean         std\n",
       "Date                         \n",
       "1     1567.140002   63.238410\n",
       "2     1554.193741   93.020121\n",
       "3     1501.462524   98.520093\n",
       "4     1567.243759  129.769813\n",
       "5     1501.915002  167.734153"
      ]
     },
     "execution_count": 18,
     "metadata": {},
     "output_type": "execute_result"
    }
   ],
   "source": [
    "data1=data1.merge(data.groupby(data.index.month).std().rename(columns={'Close':'std'}),left_index=True,right_index=True)\n",
    "data1.head()"
   ]
  },
  {
   "cell_type": "markdown",
   "id": "e839128c",
   "metadata": {},
   "source": [
    "## Assessing relative variability"
   ]
  },
  {
   "cell_type": "code",
   "execution_count": 19,
   "id": "29d34146",
   "metadata": {},
   "outputs": [
    {
     "data": {
      "text/html": [
       "<div>\n",
       "<style scoped>\n",
       "    .dataframe tbody tr th:only-of-type {\n",
       "        vertical-align: middle;\n",
       "    }\n",
       "\n",
       "    .dataframe tbody tr th {\n",
       "        vertical-align: top;\n",
       "    }\n",
       "\n",
       "    .dataframe thead th {\n",
       "        text-align: right;\n",
       "    }\n",
       "</style>\n",
       "<table border=\"1\" class=\"dataframe\">\n",
       "  <thead>\n",
       "    <tr style=\"text-align: right;\">\n",
       "      <th></th>\n",
       "      <th>Mean</th>\n",
       "      <th>std</th>\n",
       "      <th>Cvar</th>\n",
       "    </tr>\n",
       "    <tr>\n",
       "      <th>Date</th>\n",
       "      <th></th>\n",
       "      <th></th>\n",
       "      <th></th>\n",
       "    </tr>\n",
       "  </thead>\n",
       "  <tbody>\n",
       "    <tr>\n",
       "      <th>1</th>\n",
       "      <td>1567.140002</td>\n",
       "      <td>63.238410</td>\n",
       "      <td>4.035275</td>\n",
       "    </tr>\n",
       "    <tr>\n",
       "      <th>2</th>\n",
       "      <td>1554.193741</td>\n",
       "      <td>93.020121</td>\n",
       "      <td>5.985105</td>\n",
       "    </tr>\n",
       "    <tr>\n",
       "      <th>3</th>\n",
       "      <td>1501.462524</td>\n",
       "      <td>98.520093</td>\n",
       "      <td>6.561609</td>\n",
       "    </tr>\n",
       "    <tr>\n",
       "      <th>4</th>\n",
       "      <td>1567.243759</td>\n",
       "      <td>129.769813</td>\n",
       "      <td>8.280130</td>\n",
       "    </tr>\n",
       "    <tr>\n",
       "      <th>5</th>\n",
       "      <td>1501.915002</td>\n",
       "      <td>167.734153</td>\n",
       "      <td>11.168019</td>\n",
       "    </tr>\n",
       "  </tbody>\n",
       "</table>\n",
       "</div>"
      ],
      "text/plain": [
       "             Mean         std       Cvar\n",
       "Date                                    \n",
       "1     1567.140002   63.238410   4.035275\n",
       "2     1554.193741   93.020121   5.985105\n",
       "3     1501.462524   98.520093   6.561609\n",
       "4     1567.243759  129.769813   8.280130\n",
       "5     1501.915002  167.734153  11.168019"
      ]
     },
     "execution_count": 19,
     "metadata": {},
     "output_type": "execute_result"
    }
   ],
   "source": [
    "data1['Cvar']=(data1['std']/data1['Mean'])*100\n",
    "data1.head()"
   ]
  },
  {
   "cell_type": "code",
   "execution_count": 20,
   "id": "6d102cfd",
   "metadata": {},
   "outputs": [
    {
     "data": {
      "image/png": "[encoded data removed]",
      "text/plain": [
       "<Figure size 432x288 with 1 Axes>"
      ]
     },
     "metadata": {
      "needs_background": "light"
     },
     "output_type": "display_data"
    }
   ],
   "source": [
    "data1['Cvar'].plot()\n",
    "plt.show()"
   ]
  },
  {
   "cell_type": "markdown",
   "id": "fd94d5fe",
   "metadata": {},
   "source": [
    "## Decompose Seasonality"
   ]
  },
  {
   "cell_type": "code",
   "execution_count": 21,
   "id": "56ecf380",
   "metadata": {},
   "outputs": [
    {
     "data": {
      "image/png": "[encoded data removed]",
      "text/plain": [
       "<Figure size 432x288 with 4 Axes>"
      ]
     },
     "metadata": {
      "needs_background": "light"
     },
     "output_type": "display_data"
    }
   ],
   "source": [
    "result = seasonal_decompose(data, model='multiplicative', period=12)\n",
    "result.plot()\n",
    "plt.show()"
   ]
  },
  {
   "cell_type": "markdown",
   "id": "9f793004",
   "metadata": {},
   "source": [
    "## Splitting Data into Training and Testing sets"
   ]
  },
  {
   "cell_type": "code",
   "execution_count": 22,
   "id": "76c0db80",
   "metadata": {},
   "outputs": [],
   "source": [
    "train_size = int(len(data) * 0.80)\n",
    "train, test = data.iloc[:train_size], data.iloc[train_size:]"
   ]
  },
  {
   "cell_type": "code",
   "execution_count": 23,
   "id": "2bafd5dc",
   "metadata": {},
   "outputs": [
    {
     "name": "stdout",
     "output_type": "stream",
     "text": [
      "Training shape :  (84, 1)\n",
      "Testing shape :  (21, 1)\n"
     ]
    }
   ],
   "source": [
    "print('Training shape : ',train.shape)\n",
    "print('Testing shape : ',test.shape)"
   ]
  },
  {
   "cell_type": "code",
   "execution_count": 24,
   "id": "7d1266ed",
   "metadata": {},
   "outputs": [
    {
     "data": {
      "image/png": "[encoded data removed]",
      "text/plain": [
       "<Figure size 432x288 with 1 Axes>"
      ]
     },
     "metadata": {
      "needs_background": "light"
     },
     "output_type": "display_data"
    }
   ],
   "source": [
    "#ploting Train and test data.\n",
    "\n",
    "train['Close'].plot()\n",
    "test['Close'].plot()\n",
    "\n",
    "plt.legend(['Training Data','Testing Data'])\n",
    "plt.show()"
   ]
  },
  {
   "cell_type": "code",
   "execution_count": 25,
   "id": "1e624fca",
   "metadata": {},
   "outputs": [],
   "source": [
    "train_time=[i+1 for i in range(len(train))]\n",
    "test_time=[i+len(train)+1 for i in range(len(test))]"
   ]
  },
  {
   "cell_type": "code",
   "execution_count": 26,
   "id": "3c2a1103",
   "metadata": {},
   "outputs": [
    {
     "name": "stdout",
     "output_type": "stream",
     "text": [
      "Training time [1, 2, 3, 4, 5, 6, 7, 8, 9, 10, 11, 12, 13, 14, 15, 16, 17, 18, 19, 20, 21, 22, 23, 24, 25, 26, 27, 28, 29, 30, 31, 32, 33, 34, 35, 36, 37, 38, 39, 40, 41, 42, 43, 44, 45, 46, 47, 48, 49, 50, 51, 52, 53, 54, 55, 56, 57, 58, 59, 60, 61, 62, 63, 64, 65, 66, 67, 68, 69, 70, 71, 72, 73, 74, 75, 76, 77, 78, 79, 80, 81, 82, 83, 84]\n",
      "\n",
      "Testing time [85, 86, 87, 88, 89, 90, 91, 92, 93, 94, 95, 96, 97, 98, 99, 100, 101, 102, 103, 104, 105]\n"
     ]
    }
   ],
   "source": [
    "print('Training time' ,train_time)\n",
    "print()\n",
    "print('Testing time',test_time)"
   ]
  },
  {
   "cell_type": "markdown",
   "id": "8c912581",
   "metadata": {},
   "source": [
    "## LR=LinearRegression for Training data"
   ]
  },
  {
   "cell_type": "code",
   "execution_count": 27,
   "id": "41b2a900",
   "metadata": {},
   "outputs": [],
   "source": [
    "LR_train=train.copy()\n",
    "LR_test=test.copy()"
   ]
  },
  {
   "cell_type": "code",
   "execution_count": 28,
   "id": "6c558007",
   "metadata": {},
   "outputs": [],
   "source": [
    "# New time column is created\n",
    "LR_train['time']=train_time\n",
    "LR_test['time']=test_time"
   ]
  },
  {
   "cell_type": "code",
   "execution_count": 29,
   "id": "f0451eeb",
   "metadata": {},
   "outputs": [
    {
     "data": {
      "text/plain": [
       "LinearRegression()"
      ]
     },
     "execution_count": 29,
     "metadata": {},
     "output_type": "execute_result"
    }
   ],
   "source": [
    "from sklearn.linear_model import LinearRegression\n",
    "\n",
    "LR=LinearRegression()\n",
    "LR.fit(LR_train[['time']],LR_train['Close'].values)"
   ]
  },
  {
   "cell_type": "markdown",
   "id": "0a0da9f7",
   "metadata": {},
   "source": [
    "## Prediction on Testing Data"
   ]
  },
  {
   "cell_type": "code",
   "execution_count": 30,
   "id": "b7927f6d",
   "metadata": {},
   "outputs": [],
   "source": [
    "Test_predict=LR.predict(LR_test[['time']])\n",
    "LR_test['forecast']=Test_predict\n"
   ]
  },
  {
   "cell_type": "markdown",
   "id": "d73cfb96",
   "metadata": {},
   "source": [
    "## Plotting Regression Line on Test Data"
   ]
  },
  {
   "cell_type": "code",
   "execution_count": 31,
   "id": "09a10fad",
   "metadata": {},
   "outputs": [
    {
     "data": {
      "image/png": "[encoded data removed]",
      "text/plain": [
       "<Figure size 432x288 with 1 Axes>"
      ]
     },
     "metadata": {
      "needs_background": "light"
     },
     "output_type": "display_data"
    }
   ],
   "source": [
    "\n",
    "plt.plot(train['Close'],label='Train')\n",
    "plt.plot(test['Close'],label='Test')\n",
    "plt.plot(LR_test['forecast'],label='Regression Line on Test Data')\n",
    "plt.legend()\n",
    "plt.show()"
   ]
  },
  {
   "cell_type": "markdown",
   "id": "1880a74f",
   "metadata": {},
   "source": [
    "## Mean absolute percentage error\n",
    "\n",
    "The mean absolute percentage error, also known as mean absolute percentage deviation, is a measure of prediction accuracy of a forecasting method in statistics. \n"
   ]
  },
  {
   "cell_type": "code",
   "execution_count": 32,
   "id": "8c98b975",
   "metadata": {},
   "outputs": [],
   "source": [
    "def mape(actual,predicted):\n",
    "    return round((np.mean(abs(actual-predicted)/actual))*100,2)"
   ]
  },
  {
   "cell_type": "code",
   "execution_count": 33,
   "id": "13bec30d",
   "metadata": {},
   "outputs": [
    {
     "name": "stdout",
     "output_type": "stream",
     "text": [
      "MAPE is 3.180  %\n"
     ]
    }
   ],
   "source": [
    "mape_model_test=mape(test['Close'].values,Test_predict)\n",
    "print('MAPE is %3.3f '%(mape_model_test),'%')\n"
   ]
  },
  {
   "cell_type": "code",
   "execution_count": 34,
   "id": "d528b936",
   "metadata": {},
   "outputs": [
    {
     "data": {
      "text/html": [
       "<div>\n",
       "<style scoped>\n",
       "    .dataframe tbody tr th:only-of-type {\n",
       "        vertical-align: middle;\n",
       "    }\n",
       "\n",
       "    .dataframe tbody tr th {\n",
       "        vertical-align: top;\n",
       "    }\n",
       "\n",
       "    .dataframe thead th {\n",
       "        text-align: right;\n",
       "    }\n",
       "</style>\n",
       "<table border=\"1\" class=\"dataframe\">\n",
       "  <thead>\n",
       "    <tr style=\"text-align: right;\">\n",
       "      <th></th>\n",
       "      <th>Test MAPE (%)</th>\n",
       "    </tr>\n",
       "  </thead>\n",
       "  <tbody>\n",
       "    <tr>\n",
       "      <th>RegressionOnTime</th>\n",
       "      <td>3.18</td>\n",
       "    </tr>\n",
       "  </tbody>\n",
       "</table>\n",
       "</div>"
      ],
      "text/plain": [
       "                  Test MAPE (%)\n",
       "RegressionOnTime           3.18"
      ]
     },
     "execution_count": 34,
     "metadata": {},
     "output_type": "execute_result"
    }
   ],
   "source": [
    "results=pd.DataFrame({'Test MAPE (%)': [mape_model_test]},index=['RegressionOnTime'])\n",
    "results\n"
   ]
  },
  {
   "cell_type": "markdown",
   "id": "3ae1f84c",
   "metadata": {},
   "source": [
    "## NB= NaiveBayes for Training and Testing Data"
   ]
  },
  {
   "cell_type": "code",
   "execution_count": 35,
   "id": "da724d34",
   "metadata": {},
   "outputs": [],
   "source": [
    "from sklearn.naive_bayes import GaussianNB\n",
    "\n",
    "NB_train=train.copy()\n",
    "NB_test=test.copy()\n",
    "# NB = Naive Byes"
   ]
  },
  {
   "cell_type": "code",
   "execution_count": 36,
   "id": "bb4adec4",
   "metadata": {},
   "outputs": [
    {
     "data": {
      "text/plain": [
       "Date\n",
       "2023-05-08    1688.150024\n",
       "2023-05-15    1688.150024\n",
       "2023-05-22    1688.150024\n",
       "2023-05-29    1688.150024\n",
       "2023-06-05    1688.150024\n",
       "Freq: W-MON, Name: naive, dtype: float64"
      ]
     },
     "execution_count": 36,
     "metadata": {},
     "output_type": "execute_result"
    }
   ],
   "source": [
    "NB_test['naive']=np.asarray(NB_train['Close'])[len(np.asarray(NB_train['Close']))-1]\n",
    "NB_test['naive'].head()"
   ]
  },
  {
   "cell_type": "code",
   "execution_count": 37,
   "id": "e14850d0",
   "metadata": {},
   "outputs": [
    {
     "data": {
      "text/plain": [
       "Date\n",
       "2023-05-08    1644.449951\n",
       "2023-05-15    1675.800049\n",
       "2023-05-22    1641.050049\n",
       "2023-05-29    1635.500000\n",
       "2023-06-05    1604.400024\n",
       "Freq: W-MON, Name: Close, dtype: float64"
      ]
     },
     "execution_count": 37,
     "metadata": {},
     "output_type": "execute_result"
    }
   ],
   "source": [
    "test['Close'].head()"
   ]
  },
  {
   "cell_type": "markdown",
   "id": "ada0eb62",
   "metadata": {},
   "source": [
    "## Plotting Naive forecast on test data"
   ]
  },
  {
   "cell_type": "code",
   "execution_count": 38,
   "id": "e973b65f",
   "metadata": {},
   "outputs": [
    {
     "data": {
      "text/plain": [
       "<matplotlib.legend.Legend at 0x1f38071a160>"
      ]
     },
     "execution_count": 38,
     "metadata": {},
     "output_type": "execute_result"
    },
    {
     "data": {
      "image/png": "[encoded data removed]",
      "text/plain": [
       "<Figure size 432x288 with 1 Axes>"
      ]
     },
     "metadata": {
      "needs_background": "light"
     },
     "output_type": "display_data"
    }
   ],
   "source": [
    "plt.plot(NB_train['Close'],label='train')\n",
    "plt.plot(test['Close'],label='test')\n",
    "plt.plot(NB_test['naive'],label='Naive forecast on test data')\n",
    "plt.legend()"
   ]
  },
  {
   "cell_type": "code",
   "execution_count": 39,
   "id": "0d533507",
   "metadata": {},
   "outputs": [
    {
     "name": "stdout",
     "output_type": "stream",
     "text": [
      "For Naive Forecast on Test Data, MAPE is 3.800  %\n"
     ]
    }
   ],
   "source": [
    "mape_modelNB_test=mape(test['Close'].values,NB_test['naive'].values)\n",
    "print('For Naive Forecast on Test Data, MAPE is %3.3f '%(mape_modelNB_test),'%')\n"
   ]
  },
  {
   "cell_type": "code",
   "execution_count": 40,
   "id": "e64cd6ad",
   "metadata": {},
   "outputs": [
    {
     "data": {
      "text/html": [
       "<div>\n",
       "<style scoped>\n",
       "    .dataframe tbody tr th:only-of-type {\n",
       "        vertical-align: middle;\n",
       "    }\n",
       "\n",
       "    .dataframe tbody tr th {\n",
       "        vertical-align: top;\n",
       "    }\n",
       "\n",
       "    .dataframe thead th {\n",
       "        text-align: right;\n",
       "    }\n",
       "</style>\n",
       "<table border=\"1\" class=\"dataframe\">\n",
       "  <thead>\n",
       "    <tr style=\"text-align: right;\">\n",
       "      <th></th>\n",
       "      <th>Test MAPE (%)</th>\n",
       "    </tr>\n",
       "  </thead>\n",
       "  <tbody>\n",
       "    <tr>\n",
       "      <th>RegressionOnTime</th>\n",
       "      <td>3.18</td>\n",
       "    </tr>\n",
       "    <tr>\n",
       "      <th>NaiveModel</th>\n",
       "      <td>3.80</td>\n",
       "    </tr>\n",
       "  </tbody>\n",
       "</table>\n",
       "</div>"
      ],
      "text/plain": [
       "                  Test MAPE (%)\n",
       "RegressionOnTime           3.18\n",
       "NaiveModel                 3.80"
      ]
     },
     "execution_count": 40,
     "metadata": {},
     "output_type": "execute_result"
    }
   ],
   "source": [
    "resultsNB=pd.DataFrame({'Test MAPE (%)': [mape_modelNB_test]},index=['NaiveModel'])\n",
    "results=pd.concat([results,resultsNB])\n",
    "results\n"
   ]
  },
  {
   "cell_type": "markdown",
   "id": "01d435f7",
   "metadata": {},
   "source": [
    "## Final model of Exponental Smoothing"
   ]
  },
  {
   "cell_type": "code",
   "execution_count": 41,
   "id": "09af0af8",
   "metadata": {},
   "outputs": [],
   "source": [
    "model = ExponentialSmoothing(data,\n",
    "                             trend='add',\n",
    "                             seasonal='add',\n",
    "                            seasonal_periods=7)\n",
    "fit_model = model.fit(smoothing_level=0.4,\n",
    "                     smoothing_trend=0.3,\n",
    "                     smoothing_seasonal=0.6)\n"
   ]
  },
  {
   "cell_type": "code",
   "execution_count": 42,
   "id": "440616e0",
   "metadata": {},
   "outputs": [
    {
     "name": "stdout",
     "output_type": "stream",
     "text": [
      "MAPE: 3.68\n"
     ]
    }
   ],
   "source": [
    "MAPE_final_model=mape(data['Close'].values,fit_model.fittedvalues)\n",
    "print('MAPE:',MAPE_final_model)"
   ]
  },
  {
   "cell_type": "code",
   "execution_count": 43,
   "id": "026b166a",
   "metadata": {},
   "outputs": [],
   "source": [
    "forecast = fit_model.forecast(steps=len(test))"
   ]
  },
  {
   "cell_type": "code",
   "execution_count": 44,
   "id": "dcee2815",
   "metadata": {},
   "outputs": [
    {
     "data": {
      "text/html": [
       "<div>\n",
       "<style scoped>\n",
       "    .dataframe tbody tr th:only-of-type {\n",
       "        vertical-align: middle;\n",
       "    }\n",
       "\n",
       "    .dataframe tbody tr th {\n",
       "        vertical-align: top;\n",
       "    }\n",
       "\n",
       "    .dataframe thead th {\n",
       "        text-align: right;\n",
       "    }\n",
       "</style>\n",
       "<table border=\"1\" class=\"dataframe\">\n",
       "  <thead>\n",
       "    <tr style=\"text-align: right;\">\n",
       "      <th></th>\n",
       "      <th>lower CI</th>\n",
       "      <th>prediction</th>\n",
       "      <th>upper CI</th>\n",
       "    </tr>\n",
       "  </thead>\n",
       "  <tbody>\n",
       "    <tr>\n",
       "      <th>2023-10-02</th>\n",
       "      <td>1414.155528</td>\n",
       "      <td>1560.662838</td>\n",
       "      <td>1707.170149</td>\n",
       "    </tr>\n",
       "    <tr>\n",
       "      <th>2023-10-09</th>\n",
       "      <td>1431.579930</td>\n",
       "      <td>1578.087241</td>\n",
       "      <td>1724.594551</td>\n",
       "    </tr>\n",
       "    <tr>\n",
       "      <th>2023-10-16</th>\n",
       "      <td>1421.054347</td>\n",
       "      <td>1567.561658</td>\n",
       "      <td>1714.068969</td>\n",
       "    </tr>\n",
       "    <tr>\n",
       "      <th>2023-10-23</th>\n",
       "      <td>1427.867000</td>\n",
       "      <td>1574.374311</td>\n",
       "      <td>1720.881621</td>\n",
       "    </tr>\n",
       "    <tr>\n",
       "      <th>2023-10-30</th>\n",
       "      <td>1450.170041</td>\n",
       "      <td>1596.677352</td>\n",
       "      <td>1743.184662</td>\n",
       "    </tr>\n",
       "  </tbody>\n",
       "</table>\n",
       "</div>"
      ],
      "text/plain": [
       "               lower CI   prediction     upper CI\n",
       "2023-10-02  1414.155528  1560.662838  1707.170149\n",
       "2023-10-09  1431.579930  1578.087241  1724.594551\n",
       "2023-10-16  1421.054347  1567.561658  1714.068969\n",
       "2023-10-23  1427.867000  1574.374311  1720.881621\n",
       "2023-10-30  1450.170041  1596.677352  1743.184662"
      ]
     },
     "execution_count": 44,
     "metadata": {},
     "output_type": "execute_result"
    }
   ],
   "source": [
    "pred_data = pd.DataFrame({\n",
    "    'lower CI': forecast - 1.96 * np.std(fit_model.resid, ddof=1),\n",
    "    'prediction': forecast,\n",
    "    'upper CI': forecast + 1.96 * np.std(fit_model.resid, ddof=1)\n",
    "})\n",
    "\n",
    "\n",
    "pred_data.head()"
   ]
  },
  {
   "cell_type": "markdown",
   "id": "662fc378",
   "metadata": {},
   "source": [
    "## Plotting forecast with confidence band"
   ]
  },
  {
   "cell_type": "code",
   "execution_count": 45,
   "id": "6f1ddac4",
   "metadata": {},
   "outputs": [
    {
     "data": {
      "image/png": "[encoded data removed]",
      "text/plain": [
       "<Figure size 1080x432 with 1 Axes>"
      ]
     },
     "metadata": {
      "needs_background": "light"
     },
     "output_type": "display_data"
    }
   ],
   "source": [
    "axis=data.plot(label='Actual',figsize=(15,6))\n",
    "pred_data['prediction'].plot(ax=axis,label='Forecast',alpha=0.50)\n",
    "axis.fill_between(pred_data.index,pred_data['lower CI'],pred_data['upper CI'],color='m',alpha=0.10)\n",
    "\n",
    "\n",
    "axis.set_xlabel('Year-Month')\n",
    "axis.set_ylabel('Closing Price')\n",
    "plt.legend()\n",
    "plt.grid()\n",
    "plt.show()"
   ]
  },
  {
   "cell_type": "code",
   "execution_count": null,
   "id": "c16855d0",
   "metadata": {},
   "outputs": [],
   "source": []
  }
 ],
 "metadata": {
  "kernelspec": {
   "display_name": "Python 3 (ipykernel)",
   "language": "python",
   "name": "python3"
  },
  "language_info": {
   "codemirror_mode": {
    "name": "ipython",
    "version": 3
   },
   "file_extension": ".py",
   "mimetype": "text/x-python",
   "name": "python",
   "nbconvert_exporter": "python",
   "pygments_lexer": "ipython3",
   "version": "3.9.12"
  }
 },
 "nbformat": 4,
 "nbformat_minor": 5
}
